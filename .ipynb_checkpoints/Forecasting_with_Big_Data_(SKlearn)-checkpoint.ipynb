{
 "cells": [
  {
   "cell_type": "markdown",
   "metadata": {},
   "source": [
    "# Forecasting with Big Data\n",
    "\n",
    "### Objective:\n",
    "Analyze the companies sales data and optimize pricing and its impact on sales\n",
    "\n",
    "### Data Set:\n",
    "Panel data set on sales from different companies across several time periods\n",
    "\n",
    "#### Independent Variables:\n",
    "1. Assets\n",
    "2. Liability\n",
    "3. Net Income\n",
    "4. Capital Expenditure\n",
    "5. R&D \n",
    "6. Tobin's q (measure for valuation of the firm)\n",
    "7. NPS (net promoter score, which is a marketing metric)\n",
    "8. Standard Deviation of Tobin's q\n",
    "9. HHI (Herfindahl Index, which is an industry concentration index)\n",
    "10. AltmanZ (measure for financial stability)\n",
    "\n",
    "#### Dependent Variable\n",
    "- Sales\n"
   ]
  },
  {
   "cell_type": "markdown",
   "metadata": {},
   "source": [
    "## Multiple Linear Regression \n",
    "\n",
    "#### Hedonic Pricing Model\n",
    "#### Tool: Scikit-Learn Package"
   ]
  },
  {
   "cell_type": "code",
   "execution_count": 1,
   "metadata": {},
   "outputs": [],
   "source": [
    "# Import the Dependencies\n",
    "%matplotlib inline\n",
    "import matplotlib.pyplot as plt\n",
    "import numpy as np\n",
    "import pandas as pd"
   ]
  },
  {
   "cell_type": "code",
   "execution_count": 2,
   "metadata": {},
   "outputs": [],
   "source": [
    "# Read the data file into a pandas DataFrame\n",
    "sales = pd.read_csv('./data/FinancialData.csv')"
   ]
  },
  {
   "cell_type": "code",
   "execution_count": 3,
   "metadata": {},
   "outputs": [
    {
     "data": {
      "text/html": [
       "<div>\n",
       "<style scoped>\n",
       "    .dataframe tbody tr th:only-of-type {\n",
       "        vertical-align: middle;\n",
       "    }\n",
       "\n",
       "    .dataframe tbody tr th {\n",
       "        vertical-align: top;\n",
       "    }\n",
       "\n",
       "    .dataframe thead th {\n",
       "        text-align: right;\n",
       "    }\n",
       "</style>\n",
       "<table border=\"1\" class=\"dataframe\">\n",
       "  <thead>\n",
       "    <tr style=\"text-align: right;\">\n",
       "      <th></th>\n",
       "      <th>Company ID</th>\n",
       "      <th>Assets</th>\n",
       "      <th>Liabilities</th>\n",
       "      <th>Net Income</th>\n",
       "      <th>CapEx</th>\n",
       "      <th>R&amp;D</th>\n",
       "      <th>Quarter</th>\n",
       "      <th>Tobin_q</th>\n",
       "      <th>NPS</th>\n",
       "      <th>SD of TobinQ</th>\n",
       "      <th>HHI</th>\n",
       "      <th>Year</th>\n",
       "      <th>AltmanZ</th>\n",
       "      <th>Sales</th>\n",
       "    </tr>\n",
       "  </thead>\n",
       "  <tbody>\n",
       "    <tr>\n",
       "      <th>0</th>\n",
       "      <td>105920</td>\n",
       "      <td>2769.690</td>\n",
       "      <td>2135.958</td>\n",
       "      <td>1.972</td>\n",
       "      <td>1.009</td>\n",
       "      <td>0.003112</td>\n",
       "      <td>1</td>\n",
       "      <td>0.005491</td>\n",
       "      <td>0.000712</td>\n",
       "      <td>4.539607</td>\n",
       "      <td>0.000000</td>\n",
       "      <td>2000</td>\n",
       "      <td>0.580366</td>\n",
       "      <td>331.936</td>\n",
       "    </tr>\n",
       "    <tr>\n",
       "      <th>1</th>\n",
       "      <td>105920</td>\n",
       "      <td>2872.301</td>\n",
       "      <td>2225.633</td>\n",
       "      <td>15.743</td>\n",
       "      <td>2.722</td>\n",
       "      <td>0.024345</td>\n",
       "      <td>2</td>\n",
       "      <td>0.005536</td>\n",
       "      <td>0.005481</td>\n",
       "      <td>4.539607</td>\n",
       "      <td>0.000000</td>\n",
       "      <td>2000</td>\n",
       "      <td>0.585020</td>\n",
       "      <td>333.341</td>\n",
       "    </tr>\n",
       "    <tr>\n",
       "      <th>2</th>\n",
       "      <td>105920</td>\n",
       "      <td>2962.789</td>\n",
       "      <td>2320.762</td>\n",
       "      <td>-3.313</td>\n",
       "      <td>3.896</td>\n",
       "      <td>-0.005160</td>\n",
       "      <td>3</td>\n",
       "      <td>0.005807</td>\n",
       "      <td>-0.001118</td>\n",
       "      <td>4.539607</td>\n",
       "      <td>0.000000</td>\n",
       "      <td>2000</td>\n",
       "      <td>0.544234</td>\n",
       "      <td>342.813</td>\n",
       "    </tr>\n",
       "    <tr>\n",
       "      <th>3</th>\n",
       "      <td>105920</td>\n",
       "      <td>2875.184</td>\n",
       "      <td>2217.859</td>\n",
       "      <td>17.275</td>\n",
       "      <td>5.646</td>\n",
       "      <td>0.026281</td>\n",
       "      <td>4</td>\n",
       "      <td>0.005726</td>\n",
       "      <td>0.006008</td>\n",
       "      <td>4.539607</td>\n",
       "      <td>0.000000</td>\n",
       "      <td>2000</td>\n",
       "      <td>0.632413</td>\n",
       "      <td>352.901</td>\n",
       "    </tr>\n",
       "    <tr>\n",
       "      <th>4</th>\n",
       "      <td>105920</td>\n",
       "      <td>2818.117</td>\n",
       "      <td>2182.371</td>\n",
       "      <td>-19.960</td>\n",
       "      <td>0.320</td>\n",
       "      <td>-0.031396</td>\n",
       "      <td>1</td>\n",
       "      <td>0.005977</td>\n",
       "      <td>-0.007083</td>\n",
       "      <td>4.674411</td>\n",
       "      <td>0.042367</td>\n",
       "      <td>2001</td>\n",
       "      <td>0.574489</td>\n",
       "      <td>345.999</td>\n",
       "    </tr>\n",
       "  </tbody>\n",
       "</table>\n",
       "</div>"
      ],
      "text/plain": [
       "   Company ID    Assets  Liabilities  Net Income  CapEx       R&D  Quarter  \\\n",
       "0      105920  2769.690     2135.958       1.972  1.009  0.003112        1   \n",
       "1      105920  2872.301     2225.633      15.743  2.722  0.024345        2   \n",
       "2      105920  2962.789     2320.762      -3.313  3.896 -0.005160        3   \n",
       "3      105920  2875.184     2217.859      17.275  5.646  0.026281        4   \n",
       "4      105920  2818.117     2182.371     -19.960  0.320 -0.031396        1   \n",
       "\n",
       "    Tobin_q       NPS  SD of TobinQ       HHI  Year   AltmanZ    Sales  \n",
       "0  0.005491  0.000712      4.539607  0.000000  2000  0.580366  331.936  \n",
       "1  0.005536  0.005481      4.539607  0.000000  2000  0.585020  333.341  \n",
       "2  0.005807 -0.001118      4.539607  0.000000  2000  0.544234  342.813  \n",
       "3  0.005726  0.006008      4.539607  0.000000  2000  0.632413  352.901  \n",
       "4  0.005977 -0.007083      4.674411  0.042367  2001  0.574489  345.999  "
      ]
     },
     "execution_count": 3,
     "metadata": {},
     "output_type": "execute_result"
    }
   ],
   "source": [
    "# Check the DataFrame\n",
    "sales.head()"
   ]
  },
  {
   "cell_type": "code",
   "execution_count": 4,
   "metadata": {},
   "outputs": [
    {
     "name": "stdout",
     "output_type": "stream",
     "text": [
      "(391469, 9) (391469, 1)\n"
     ]
    }
   ],
   "source": [
    "# Assign the data to X (independent variables) and y (dependent variable)\n",
    "# Note: SKlearn requires a two-dimensional array of values\n",
    "# So we use reshape to create this\n",
    "\n",
    "X = sales[[\"Assets\", \"Liabilities\", \"Net Income\", \"CapEx\", \"R&D\",\n",
    "          \"Tobin_q\", \"NPS\", \"HHI\", \"AltmanZ\"]]\n",
    "\n",
    "y = sales[\"Sales\"].values.reshape(-1,1)\n",
    "\n",
    "print(X.shape, y.shape)"
   ]
  },
  {
   "cell_type": "code",
   "execution_count": 5,
   "metadata": {},
   "outputs": [
    {
     "data": {
      "text/plain": [
       "LinearRegression(copy_X=True, fit_intercept=True, n_jobs=None, normalize=False)"
      ]
     },
     "execution_count": 5,
     "metadata": {},
     "output_type": "execute_result"
    }
   ],
   "source": [
    "# Create the model using the SKlearn LinearRegression model\n",
    "from sklearn.linear_model import LinearRegression\n",
    "model = LinearRegression()\n",
    "model"
   ]
  },
  {
   "cell_type": "code",
   "execution_count": 6,
   "metadata": {},
   "outputs": [
    {
     "name": "stdout",
     "output_type": "stream",
     "text": [
      "LinearRegression(copy_X=True, fit_intercept=True, n_jobs=None, normalize=False)\n"
     ]
    }
   ],
   "source": [
    "# Fit the model to our data using the fit method\n",
    "model.fit(X, y)\n",
    "print(model)"
   ]
  },
  {
   "cell_type": "code",
   "execution_count": 7,
   "metadata": {},
   "outputs": [
    {
     "name": "stdout",
     "output_type": "stream",
     "text": [
      "Weight coefficients:  [[ 2.97898978e-01 -3.06696370e-01  8.00139231e-01  8.16600326e-01\n",
      "   2.87293152e+00 -1.79906013e+00  1.66355452e+03  3.13987371e+01\n",
      "  -8.05420753e-02]]\n",
      "y-axis intercept:  [111.62813168]\n"
     ]
    }
   ],
   "source": [
    "# Print the model coefficients\n",
    "print('Weight coefficients: ', model.coef_)\n",
    "print('y-axis intercept: ', model.intercept_) "
   ]
  },
  {
   "cell_type": "code",
   "execution_count": 8,
   "metadata": {},
   "outputs": [
    {
     "name": "stdout",
     "output_type": "stream",
     "text": [
      "True output: [331.936]\n",
      "Predicted output: [285.16396933]\n",
      "Prediction Error: [-46.77203067]\n"
     ]
    }
   ],
   "source": [
    "# Use the model to make predictions\n",
    "predictions = model.predict(X)\n",
    "print(f\"True output: {y[0]}\")\n",
    "print(f\"Predicted output: {predictions[0]}\")\n",
    "print(f\"Prediction Error: {predictions[0]-y[0]}\")"
   ]
  },
  {
   "cell_type": "code",
   "execution_count": 9,
   "metadata": {},
   "outputs": [
    {
     "data": {
      "text/html": [
       "<div>\n",
       "<style scoped>\n",
       "    .dataframe tbody tr th:only-of-type {\n",
       "        vertical-align: middle;\n",
       "    }\n",
       "\n",
       "    .dataframe tbody tr th {\n",
       "        vertical-align: top;\n",
       "    }\n",
       "\n",
       "    .dataframe thead th {\n",
       "        text-align: right;\n",
       "    }\n",
       "</style>\n",
       "<table border=\"1\" class=\"dataframe\">\n",
       "  <thead>\n",
       "    <tr style=\"text-align: right;\">\n",
       "      <th></th>\n",
       "      <th>Prediction</th>\n",
       "      <th>Actual</th>\n",
       "      <th>Error</th>\n",
       "    </tr>\n",
       "  </thead>\n",
       "  <tbody>\n",
       "    <tr>\n",
       "      <th>0</th>\n",
       "      <td>285.163969</td>\n",
       "      <td>331.936</td>\n",
       "      <td>-46.772031</td>\n",
       "    </tr>\n",
       "    <tr>\n",
       "      <th>1</th>\n",
       "      <td>308.640240</td>\n",
       "      <td>333.341</td>\n",
       "      <td>-24.700760</td>\n",
       "    </tr>\n",
       "    <tr>\n",
       "      <th>2</th>\n",
       "      <td>281.071985</td>\n",
       "      <td>342.813</td>\n",
       "      <td>-61.741015</td>\n",
       "    </tr>\n",
       "    <tr>\n",
       "      <th>3</th>\n",
       "      <td>316.375553</td>\n",
       "      <td>352.901</td>\n",
       "      <td>-36.525447</td>\n",
       "    </tr>\n",
       "    <tr>\n",
       "      <th>4</th>\n",
       "      <td>255.508081</td>\n",
       "      <td>345.999</td>\n",
       "      <td>-90.490919</td>\n",
       "    </tr>\n",
       "    <tr>\n",
       "      <th>...</th>\n",
       "      <td>...</td>\n",
       "      <td>...</td>\n",
       "      <td>...</td>\n",
       "    </tr>\n",
       "    <tr>\n",
       "      <th>391464</th>\n",
       "      <td>253.496010</td>\n",
       "      <td>120.000</td>\n",
       "      <td>133.496010</td>\n",
       "    </tr>\n",
       "    <tr>\n",
       "      <th>391465</th>\n",
       "      <td>308.885044</td>\n",
       "      <td>154.000</td>\n",
       "      <td>154.885044</td>\n",
       "    </tr>\n",
       "    <tr>\n",
       "      <th>391466</th>\n",
       "      <td>301.479014</td>\n",
       "      <td>159.000</td>\n",
       "      <td>142.479014</td>\n",
       "    </tr>\n",
       "    <tr>\n",
       "      <th>391467</th>\n",
       "      <td>229.076577</td>\n",
       "      <td>120.000</td>\n",
       "      <td>109.076577</td>\n",
       "    </tr>\n",
       "    <tr>\n",
       "      <th>391468</th>\n",
       "      <td>111.463845</td>\n",
       "      <td>112.000</td>\n",
       "      <td>-0.536155</td>\n",
       "    </tr>\n",
       "  </tbody>\n",
       "</table>\n",
       "<p>391469 rows × 3 columns</p>\n",
       "</div>"
      ],
      "text/plain": [
       "        Prediction   Actual       Error\n",
       "0       285.163969  331.936  -46.772031\n",
       "1       308.640240  333.341  -24.700760\n",
       "2       281.071985  342.813  -61.741015\n",
       "3       316.375553  352.901  -36.525447\n",
       "4       255.508081  345.999  -90.490919\n",
       "...            ...      ...         ...\n",
       "391464  253.496010  120.000  133.496010\n",
       "391465  308.885044  154.000  154.885044\n",
       "391466  301.479014  159.000  142.479014\n",
       "391467  229.076577  120.000  109.076577\n",
       "391468  111.463845  112.000   -0.536155\n",
       "\n",
       "[391469 rows x 3 columns]"
      ]
     },
     "execution_count": 9,
     "metadata": {},
     "output_type": "execute_result"
    }
   ],
   "source": [
    "# Calculate the error for each perdiction\n",
    "a = pd.DataFrame(predictions, columns=[\"Prediction\"])\n",
    "b = pd.DataFrame(y, columns=[\"Actual\"])\n",
    "c = pd.DataFrame(predictions-y, columns=[\"Error\"])\n",
    "pred = pd.concat([a, b, c], axis=1)\n",
    "pred"
   ]
  },
  {
   "cell_type": "code",
   "execution_count": 10,
   "metadata": {},
   "outputs": [],
   "source": [
    "import sklearn.metrics as metrics\n",
    "def regression_results(y_true, y_pred):\n",
    "\n",
    "    # Regression metrics\n",
    "    explained_variance=metrics.explained_variance_score(y_true, y_pred)\n",
    "    mean_absolute_error=metrics.mean_absolute_error(y_true, y_pred) \n",
    "    mse=metrics.mean_squared_error(y_true, y_pred) \n",
    "    median_absolute_error=metrics.median_absolute_error(y_true, y_pred)\n",
    "    r2=metrics.r2_score(y_true, y_pred)\n",
    "\n",
    "    print('explained_variance: ', round(explained_variance,4))    \n",
    "    print('r2: ', round(r2,4))\n",
    "    print('MAE: ', round(mean_absolute_error,4))\n",
    "    print('MSE: ', round(mse,4))\n",
    "    print('RMSE: ', round(np.sqrt(mse),4))"
   ]
  },
  {
   "cell_type": "code",
   "execution_count": 11,
   "metadata": {},
   "outputs": [
    {
     "name": "stdout",
     "output_type": "stream",
     "text": [
      "explained_variance:  0.4524\n",
      "r2:  0.4524\n",
      "MAE:  356.4694\n",
      "MSE:  1753062.0053\n",
      "RMSE:  1324.0325\n"
     ]
    }
   ],
   "source": [
    "regression_results(y, predictions)"
   ]
  },
  {
   "cell_type": "code",
   "execution_count": 12,
   "metadata": {},
   "outputs": [],
   "source": [
    "# Calculate the output response for Min and Max\n",
    "x_min = X.min()\n",
    "x_max = X.max()"
   ]
  },
  {
   "cell_type": "code",
   "execution_count": 13,
   "metadata": {},
   "outputs": [],
   "source": [
    "y_min_actual = y.min()\n",
    "y_max_actual = y.max()"
   ]
  },
  {
   "cell_type": "code",
   "execution_count": 14,
   "metadata": {},
   "outputs": [
    {
     "name": "stdout",
     "output_type": "stream",
     "text": [
      "Actual Min Value: 0.0\n",
      "Predicted Min Value: [[-52900.24099214]]\n",
      "Actual Max Value: 132872.0\n",
      "Predicted Max Value: [[62433.79547802]]\n"
     ]
    }
   ],
   "source": [
    "# Perdict the Min and Max sales \n",
    "y_min_predicted = model.predict(np.array([x_min]).reshape(1, 9))\n",
    "y_max_predicted = model.predict(np.array([x_max]).reshape(1, 9))\n",
    "print(f\"Actual Min Value: {y_min_actual}\")\n",
    "print(f\"Predicted Min Value: {y_min_predicted}\")\n",
    "print(f\"Actual Max Value: {y_max_actual}\")\n",
    "print(f\"Predicted Max Value: {y_max_predicted}\")"
   ]
  },
  {
   "cell_type": "code",
   "execution_count": 15,
   "metadata": {},
   "outputs": [
    {
     "data": {
      "image/png": "[encoded data removed]",
      "text/plain": [
       "<Figure size 432x288 with 1 Axes>"
      ]
     },
     "metadata": {
      "needs_background": "light"
     },
     "output_type": "display_data"
    }
   ],
   "source": [
    "# Plot Residuals\n",
    "plt.scatter(predictions, predictions - y)\n",
    "plt.hlines(y=0, xmin=predictions.min(), xmax=predictions.max())\n",
    "plt.show()"
   ]
  }
 ],
 "metadata": {
  "kernelspec": {
   "display_name": "Python 3",
   "language": "python",
   "name": "python3"
  },
  "language_info": {
   "codemirror_mode": {
    "name": "ipython",
    "version": 3
   },
   "file_extension": ".py",
   "mimetype": "text/x-python",
   "name": "python",
   "nbconvert_exporter": "python",
   "pygments_lexer": "ipython3",
   "version": "3.7.1"
  }
 },
 "nbformat": 4,
 "nbformat_minor": 2
}
